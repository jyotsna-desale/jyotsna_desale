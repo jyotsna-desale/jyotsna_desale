{
 "cells": [
  {
   "cell_type": "code",
   "execution_count": 1,
   "metadata": {},
   "outputs": [],
   "source": [
    "name='     jyotsna   '"
   ]
  },
  {
   "cell_type": "code",
   "execution_count": 2,
   "metadata": {},
   "outputs": [
    {
     "name": "stdout",
     "output_type": "stream",
     "text": [
      "     jyotsna   \n"
     ]
    }
   ],
   "source": [
    "print(name)"
   ]
  },
  {
   "cell_type": "code",
   "execution_count": 5,
   "metadata": {},
   "outputs": [
    {
     "data": {
      "text/plain": [
       "str"
      ]
     },
     "execution_count": 5,
     "metadata": {},
     "output_type": "execute_result"
    }
   ],
   "source": [
    "type(name)"
   ]
  },
  {
   "cell_type": "code",
   "execution_count": 6,
   "metadata": {},
   "outputs": [],
   "source": [
    "name=\"jyotsna\""
   ]
  },
  {
   "cell_type": "code",
   "execution_count": 7,
   "metadata": {},
   "outputs": [
    {
     "name": "stdout",
     "output_type": "stream",
     "text": [
      "jyotsna\n"
     ]
    }
   ],
   "source": [
    "print(name)"
   ]
  },
  {
   "cell_type": "code",
   "execution_count": 8,
   "metadata": {},
   "outputs": [
    {
     "name": "stdout",
     "output_type": "stream",
     "text": [
      "Jyotsna\n"
     ]
    }
   ],
   "source": [
    "print(name.title())"
   ]
  },
  {
   "cell_type": "code",
   "execution_count": 9,
   "metadata": {},
   "outputs": [],
   "source": [
    "fullname='jyotsna sarjerao desale'"
   ]
  },
  {
   "cell_type": "code",
   "execution_count": 10,
   "metadata": {},
   "outputs": [
    {
     "name": "stdout",
     "output_type": "stream",
     "text": [
      "Jyotsna Sarjerao Desale\n"
     ]
    }
   ],
   "source": [
    "print(fullname.title())"
   ]
  },
  {
   "cell_type": "code",
   "execution_count": 11,
   "metadata": {},
   "outputs": [
    {
     "name": "stdout",
     "output_type": "stream",
     "text": [
      "JYOTSNA SARJERAO DESALE\n"
     ]
    }
   ],
   "source": [
    "print(fullname.upper())"
   ]
  },
  {
   "cell_type": "code",
   "execution_count": 12,
   "metadata": {},
   "outputs": [
    {
     "name": "stdout",
     "output_type": "stream",
     "text": [
      "jyotsna sarjerao desale\n"
     ]
    }
   ],
   "source": [
    "print(fullname.lower())"
   ]
  },
  {
   "cell_type": "code",
   "execution_count": 13,
   "metadata": {},
   "outputs": [],
   "source": [
    "firstname = 'jyotsna'"
   ]
  },
  {
   "cell_type": "code",
   "execution_count": null,
   "metadata": {},
   "outputs": [],
   "source": [
    "lastname = 'desale'"
   ]
  },
  {
   "cell_type": "code",
   "execution_count": null,
   "metadata": {},
   "outputs": [],
   "source": [
    "print"
   ]
  },
  {
   "cell_type": "code",
   "execution_count": null,
   "metadata": {},
   "outputs": [],
   "source": []
  },
  {
   "cell_type": "code",
   "execution_count": null,
   "metadata": {},
   "outputs": [],
   "source": [
    "f string"
   ]
  },
  {
   "cell_type": "code",
   "execution_count": null,
   "metadata": {},
   "outputs": [],
   "source": [
    "custom words---{}"
   ]
  },
  {
   "cell_type": "code",
   "execution_count": 14,
   "metadata": {},
   "outputs": [
    {
     "name": "stdout",
     "output_type": "stream",
     "text": [
      "jyotsna desale\n"
     ]
    }
   ],
   "source": [
    "firstname=\"jyotsna\"\n",
    "lastname=\"desale\"\n",
    "sentence=f\"{firstname} {lastname}\"\n",
    "print(sentence)"
   ]
  },
  {
   "cell_type": "code",
   "execution_count": 15,
   "metadata": {},
   "outputs": [
    {
     "name": "stdout",
     "output_type": "stream",
     "text": [
      "Jyotsna Desale\n"
     ]
    }
   ],
   "source": [
    "firstname=\"jyotsna\"\n",
    "lastname=\"desale\"\n",
    "sentence=f\"{firstname.title()} {lastname.title()}\"\n",
    "print(sentence)"
   ]
  },
  {
   "cell_type": "code",
   "execution_count": 16,
   "metadata": {},
   "outputs": [
    {
     "name": "stdout",
     "output_type": "stream",
     "text": [
      "fav_sub c++ java python oracle\n"
     ]
    }
   ],
   "source": [
    "print('fav_sub','c++','java','python','oracle')"
   ]
  },
  {
   "cell_type": "code",
   "execution_count": 17,
   "metadata": {},
   "outputs": [
    {
     "name": "stdout",
     "output_type": "stream",
     "text": [
      "fav_sub c++ java python oracle\n"
     ]
    }
   ],
   "source": [
    "print('fav_sub', 'c++', 'java', 'python', 'oracle')"
   ]
  },
  {
   "cell_type": "code",
   "execution_count": 18,
   "metadata": {},
   "outputs": [
    {
     "name": "stdout",
     "output_type": "stream",
     "text": [
      "fav_sub\n",
      " c++ java python oracle\n"
     ]
    }
   ],
   "source": [
    "print('fav_sub\\n','c++','java','python','oracle')"
   ]
  },
  {
   "cell_type": "code",
   "execution_count": 20,
   "metadata": {},
   "outputs": [
    {
     "name": "stdout",
     "output_type": "stream",
     "text": [
      "fav_sub\n",
      " c++\n",
      " java\n",
      " python\n",
      " oracle\n",
      "\n"
     ]
    }
   ],
   "source": [
    "print('fav_sub\\n','c++\\n','java\\n','python\\n','oracle\\n')"
   ]
  },
  {
   "cell_type": "code",
   "execution_count": 21,
   "metadata": {},
   "outputs": [
    {
     "name": "stdout",
     "output_type": "stream",
     "text": [
      "fav_sub\n",
      " c c++\n",
      " java\n",
      " javascript python\n",
      " oracle\n",
      "\n"
     ]
    }
   ],
   "source": [
    "print('fav_sub\\n','c','c++\\n','java\\n','javascript','python\\n','oracle\\n')"
   ]
  },
  {
   "cell_type": "code",
   "execution_count": 22,
   "metadata": {},
   "outputs": [
    {
     "name": "stdout",
     "output_type": "stream",
     "text": [
      "fav_sub\n",
      " c\n",
      " c++\n",
      " java\n",
      " javascript\n",
      " python\n",
      " oracle\n",
      "\n"
     ]
    }
   ],
   "source": [
    "print('fav_sub\\n','c\\n','c++\\n','java\\n','javascript\\n','python\\n','oracle\\n')"
   ]
  },
  {
   "cell_type": "code",
   "execution_count": 23,
   "metadata": {},
   "outputs": [
    {
     "name": "stdout",
     "output_type": "stream",
     "text": [
      "fav_sub\n",
      " c c++ java javascript python oracle\n"
     ]
    }
   ],
   "source": [
    "print('fav_sub\\n','c','c++','java','javascript','python','oracle')"
   ]
  },
  {
   "cell_type": "code",
   "execution_count": 24,
   "metadata": {},
   "outputs": [
    {
     "name": "stdout",
     "output_type": "stream",
     "text": [
      "fav_sub\n",
      " c\n",
      " c++\n",
      " oops\n",
      " java\n",
      " javascript\n",
      " python\n",
      " oracle\n",
      "\n"
     ]
    }
   ],
   "source": [
    "print('fav_sub\\n','c\\n','c++\\n','oops\\n','java\\n','javascript\\n','python\\n','oracle\\n')"
   ]
  },
  {
   "cell_type": "code",
   "execution_count": 25,
   "metadata": {},
   "outputs": [
    {
     "name": "stdout",
     "output_type": "stream",
     "text": [
      "fav_sub\n",
      " c\n",
      " c++\n",
      " oops\n",
      "\t java\n",
      "\t javascript\n",
      " python\n",
      " oracle\n",
      "\n"
     ]
    }
   ],
   "source": [
    "print('fav_sub\\n','c\\n','c++\\n','oops\\n\\t','java\\n\\t','javascript\\n','python\\n','oracle\\n')"
   ]
  },
  {
   "cell_type": "code",
   "execution_count": 31,
   "metadata": {},
   "outputs": [
    {
     "name": "stdout",
     "output_type": "stream",
     "text": [
      "fav_sub\n",
      "\t c\n",
      "\t\t c++\n",
      "\t\t\t oops\n",
      "\t\t\t\t java\n",
      "\t\t\t\t\t javascript\n",
      "\t\t\t\t\t\t\t python\n",
      "\t\t\t\t\t\t\t\t oracle\n",
      "\t\t\t\t\t\t\n"
     ]
    }
   ],
   "source": [
    "print('fav_sub\\n\\t','c\\n\\t\\t','c++\\n\\t\\t\\t','oops\\n\\t\\t\\t\\t','java\\n\\t\\t\\t\\t\\t','javascript\\n\\t\\t\\t\\t\\t\\t\\t','python\\n\\t\\t\\t\\t\\t\\t\\t\\t','oracle\\n\\t\\t\\t\\t\\t\\t')"
   ]
  },
  {
   "cell_type": "code",
   "execution_count": 37,
   "metadata": {},
   "outputs": [
    {
     "name": "stdout",
     "output_type": "stream",
     "text": [
      "\n",
      "fav_sub \n",
      "c \n",
      "c++\n"
     ]
    }
   ],
   "source": [
    "print('\\nfav_sub','\\nc','\\nc++')"
   ]
  },
  {
   "cell_type": "code",
   "execution_count": 38,
   "metadata": {},
   "outputs": [],
   "source": [
    "name= 'raj'"
   ]
  },
  {
   "cell_type": "code",
   "execution_count": 39,
   "metadata": {},
   "outputs": [
    {
     "name": "stdout",
     "output_type": "stream",
     "text": [
      "raj\n"
     ]
    }
   ],
   "source": [
    "print(name)"
   ]
  },
  {
   "cell_type": "code",
   "execution_count": 40,
   "metadata": {},
   "outputs": [],
   "source": [
    "name='       raj'"
   ]
  },
  {
   "cell_type": "code",
   "execution_count": 41,
   "metadata": {},
   "outputs": [
    {
     "name": "stdout",
     "output_type": "stream",
     "text": [
      "       raj\n"
     ]
    }
   ],
   "source": [
    "print(name)"
   ]
  },
  {
   "cell_type": "code",
   "execution_count": 42,
   "metadata": {},
   "outputs": [
    {
     "data": {
      "text/plain": [
       "'raj'"
      ]
     },
     "execution_count": 42,
     "metadata": {},
     "output_type": "execute_result"
    }
   ],
   "source": [
    "name.lstrip()"
   ]
  },
  {
   "cell_type": "code",
   "execution_count": 43,
   "metadata": {},
   "outputs": [],
   "source": [
    "name_me='     sam     '"
   ]
  },
  {
   "cell_type": "code",
   "execution_count": 44,
   "metadata": {},
   "outputs": [
    {
     "name": "stdout",
     "output_type": "stream",
     "text": [
      "     sam     \n"
     ]
    }
   ],
   "source": [
    "print(name_me)"
   ]
  },
  {
   "cell_type": "markdown",
   "metadata": {},
   "source": []
  },
  {
   "cell_type": "code",
   "execution_count": 45,
   "metadata": {},
   "outputs": [
    {
     "data": {
      "text/plain": [
       "'     sam'"
      ]
     },
     "execution_count": 45,
     "metadata": {},
     "output_type": "execute_result"
    }
   ],
   "source": [
    "name_me.rstrip()"
   ]
  },
  {
   "cell_type": "code",
   "execution_count": 46,
   "metadata": {},
   "outputs": [
    {
     "data": {
      "text/plain": [
       "'sam     '"
      ]
     },
     "execution_count": 46,
     "metadata": {},
     "output_type": "execute_result"
    }
   ],
   "source": [
    "name_me.lstrip()"
   ]
  },
  {
   "cell_type": "markdown",
   "metadata": {},
   "source": []
  },
  {
   "cell_type": "code",
   "execution_count": 47,
   "metadata": {},
   "outputs": [
    {
     "data": {
      "text/plain": [
       "'sam'"
      ]
     },
     "execution_count": 47,
     "metadata": {},
     "output_type": "execute_result"
    }
   ],
   "source": [
    "name_me.strip()\n"
   ]
  },
  {
   "cell_type": "code",
   "execution_count": null,
   "metadata": {},
   "outputs": [],
   "source": [
    "#Introduction to list data type\n",
    " \n",
    "    #def: A list is a collection of items in a particular order\n",
    "    \n",
    "    #classification : mutable datatype\n",
    "    \n",
    "    #list datatype--- []"
   ]
  },
  {
   "cell_type": "code",
   "execution_count": 48,
   "metadata": {},
   "outputs": [],
   "source": [
    "students = ['ram','chitra','neel','khushal','harsha','krishna','prajkta']"
   ]
  },
  {
   "cell_type": "code",
   "execution_count": 49,
   "metadata": {},
   "outputs": [
    {
     "name": "stdout",
     "output_type": "stream",
     "text": [
      "['ram', 'chitra', 'neel', 'khushal', 'harsha', 'krishna', 'prajkta']\n"
     ]
    }
   ],
   "source": [
    "print(students)"
   ]
  },
  {
   "cell_type": "code",
   "execution_count": 50,
   "metadata": {},
   "outputs": [
    {
     "data": {
      "text/plain": [
       "list"
      ]
     },
     "execution_count": 50,
     "metadata": {},
     "output_type": "execute_result"
    }
   ],
   "source": [
    "type(students)"
   ]
  },
  {
   "cell_type": "code",
   "execution_count": 56,
   "metadata": {},
   "outputs": [],
   "source": [
    "students = [\"ram\",\"chitra\",\"neel\",\"khushal\",\"harsha\",\"krishna\",\"prajkta\"]"
   ]
  },
  {
   "cell_type": "code",
   "execution_count": 53,
   "metadata": {},
   "outputs": [
    {
     "data": {
      "text/plain": [
       "list"
      ]
     },
     "execution_count": 53,
     "metadata": {},
     "output_type": "execute_result"
    }
   ],
   "source": [
    "type(students)"
   ]
  },
  {
   "cell_type": "code",
   "execution_count": null,
   "metadata": {},
   "outputs": [],
   "source": [
    "#what is Indexing?\n",
    "     'ram', 'chitra', 'neel', 'khushal', 'harsha', 'krishna', 'prajkta'"
   ]
  },
  {
   "cell_type": "code",
   "execution_count": null,
   "metadata": {},
   "outputs": [],
   "source": [
    "0,1,2,3,4,5,6,7,........."
   ]
  },
  {
   "cell_type": "code",
   "execution_count": 57,
   "metadata": {},
   "outputs": [
    {
     "name": "stdout",
     "output_type": "stream",
     "text": [
      "neel\n"
     ]
    }
   ],
   "source": [
    "print(students[2])"
   ]
  },
  {
   "cell_type": "code",
   "execution_count": 59,
   "metadata": {},
   "outputs": [
    {
     "name": "stdout",
     "output_type": "stream",
     "text": [
      "Neel\n"
     ]
    }
   ],
   "source": [
    "print(students[2].title())"
   ]
  },
  {
   "cell_type": "code",
   "execution_count": 60,
   "metadata": {},
   "outputs": [],
   "source": [
    "student=['jyotsna','prajkta','minal','kirtika','shubhangi','mansi','shital','rina','garima','priyanka']"
   ]
  },
  {
   "cell_type": "code",
   "execution_count": 63,
   "metadata": {},
   "outputs": [
    {
     "name": "stdout",
     "output_type": "stream",
     "text": [
      "Minal\n",
      "Mansi\n",
      "Priyanka\n",
      "Shital\n"
     ]
    }
   ],
   "source": [
    "print(student[2].title())\n",
    "print(student[5].title())\n",
    "print(student[9].title())\n",
    "print(student[6].title())\n"
   ]
  },
  {
   "cell_type": "code",
   "execution_count": 65,
   "metadata": {},
   "outputs": [
    {
     "name": "stdout",
     "output_type": "stream",
     "text": [
      "minal\n",
      "mansi\n",
      "priyanka\n",
      "shital\n"
     ]
    }
   ],
   "source": [
    "print(student[2])\n",
    "print(student[5])\n",
    "print(student[9])\n",
    "print(student[6])\n"
   ]
  },
  {
   "cell_type": "code",
   "execution_count": 70,
   "metadata": {},
   "outputs": [
    {
     "name": "stdout",
     "output_type": "stream",
     "text": [
      "prajkta kirtika shital priyanka\n"
     ]
    }
   ],
   "source": [
    "print(student[1],student[3],student[6],student[9])"
   ]
  },
  {
   "cell_type": "code",
   "execution_count": 71,
   "metadata": {},
   "outputs": [],
   "source": [
    "#How to add a new element to the list?\n",
    "#How to modify the element in the list?\n",
    "#How to delete the element in the  list?"
   ]
  },
  {
   "cell_type": "code",
   "execution_count": 72,
   "metadata": {},
   "outputs": [],
   "source": [
    "#How to add a new element to the list?"
   ]
  },
  {
   "cell_type": "code",
   "execution_count": 73,
   "metadata": {},
   "outputs": [],
   "source": [
    "students= ['ram','chitra','neel','khushal','harsha','krishna','prajkta']"
   ]
  },
  {
   "cell_type": "code",
   "execution_count": 74,
   "metadata": {},
   "outputs": [],
   "source": [
    "#Req: i want to add raju to this list"
   ]
  },
  {
   "cell_type": "code",
   "execution_count": 75,
   "metadata": {},
   "outputs": [
    {
     "name": "stdout",
     "output_type": "stream",
     "text": [
      "['ram', 'chitra', 'neel', 'khushal', 'harsha', 'krishna', 'prajkta', 'raju']\n"
     ]
    }
   ],
   "source": [
    "students.append('raju')\n",
    "print(students)"
   ]
  },
  {
   "cell_type": "code",
   "execution_count": 76,
   "metadata": {},
   "outputs": [],
   "source": [
    "students.append('nisha')"
   ]
  },
  {
   "cell_type": "code",
   "execution_count": 77,
   "metadata": {},
   "outputs": [
    {
     "name": "stdout",
     "output_type": "stream",
     "text": [
      "['ram', 'chitra', 'neel', 'khushal', 'harsha', 'krishna', 'prajkta', 'raju', 'nisha']\n"
     ]
    }
   ],
   "source": [
    "print(students)"
   ]
  },
  {
   "cell_type": "code",
   "execution_count": 78,
   "metadata": {},
   "outputs": [],
   "source": [
    "students.insert(2, 'rohit')"
   ]
  },
  {
   "cell_type": "code",
   "execution_count": 79,
   "metadata": {},
   "outputs": [
    {
     "name": "stdout",
     "output_type": "stream",
     "text": [
      "['ram', 'chitra', 'rohit', 'neel', 'khushal', 'harsha', 'krishna', 'prajkta', 'raju', 'nisha']\n"
     ]
    }
   ],
   "source": [
    "print(students)"
   ]
  },
  {
   "cell_type": "code",
   "execution_count": 80,
   "metadata": {},
   "outputs": [
    {
     "name": "stdout",
     "output_type": "stream",
     "text": [
      "krishna\n"
     ]
    }
   ],
   "source": [
    "print(students[6])"
   ]
  },
  {
   "cell_type": "code",
   "execution_count": null,
   "metadata": {},
   "outputs": [],
   "source": [
    "#How to modify the element in the list?"
   ]
  },
  {
   "cell_type": "code",
   "execution_count": 81,
   "metadata": {},
   "outputs": [
    {
     "data": {
      "text/plain": [
       "['ram',\n",
       " 'chitra',\n",
       " 'rohit',\n",
       " 'neel',\n",
       " 'khushal',\n",
       " 'harsha',\n",
       " 'krishna',\n",
       " 'prajkta',\n",
       " 'raju',\n",
       " 'nisha']"
      ]
     },
     "execution_count": 81,
     "metadata": {},
     "output_type": "execute_result"
    }
   ],
   "source": [
    "students"
   ]
  },
  {
   "cell_type": "code",
   "execution_count": 82,
   "metadata": {},
   "outputs": [
    {
     "name": "stdout",
     "output_type": "stream",
     "text": [
      "['ram', 'chitra', 'rohit', 'neel', 'khushal', 'harsha', 'krishna', 'prajkta', 'raju', 'nisha']\n"
     ]
    }
   ],
   "source": [
    "print(students)"
   ]
  },
  {
   "cell_type": "code",
   "execution_count": 83,
   "metadata": {},
   "outputs": [],
   "source": [
    "students[1]= 'chiu'"
   ]
  },
  {
   "cell_type": "code",
   "execution_count": 84,
   "metadata": {},
   "outputs": [
    {
     "name": "stdout",
     "output_type": "stream",
     "text": [
      "['ram', 'chiu', 'rohit', 'neel', 'khushal', 'harsha', 'krishna', 'prajkta', 'raju', 'nisha']\n"
     ]
    }
   ],
   "source": [
    "print(students)"
   ]
  },
  {
   "cell_type": "code",
   "execution_count": null,
   "metadata": {},
   "outputs": [],
   "source": [
    "#How to delete the element in the  list?\n",
    "\n",
    "del"
   ]
  },
  {
   "cell_type": "code",
   "execution_count": 85,
   "metadata": {},
   "outputs": [],
   "source": [
    "del students[4]"
   ]
  },
  {
   "cell_type": "code",
   "execution_count": 86,
   "metadata": {},
   "outputs": [
    {
     "name": "stdout",
     "output_type": "stream",
     "text": [
      "['ram', 'chiu', 'rohit', 'neel', 'harsha', 'krishna', 'prajkta', 'raju', 'nisha']\n"
     ]
    }
   ],
   "source": [
    "print(students)"
   ]
  },
  {
   "cell_type": "code",
   "execution_count": 87,
   "metadata": {},
   "outputs": [],
   "source": [
    "student=['jyotsna','prajkta','minal','kirtika','shubhangi','mansi','shital','rina','garima','priyanka']"
   ]
  },
  {
   "cell_type": "code",
   "execution_count": 88,
   "metadata": {},
   "outputs": [
    {
     "name": "stdout",
     "output_type": "stream",
     "text": [
      "['jyotsna', 'prajkta', 'minal', 'kirtika', 'shubhangi', 'mansi', 'shital', 'rina', 'garima', 'priyanka', 'raju']\n"
     ]
    }
   ],
   "source": [
    "student.append('raju')\n",
    "print(student)"
   ]
  },
  {
   "cell_type": "code",
   "execution_count": 89,
   "metadata": {},
   "outputs": [],
   "source": [
    "student[1]= 'chiu'"
   ]
  },
  {
   "cell_type": "code",
   "execution_count": 90,
   "metadata": {},
   "outputs": [
    {
     "name": "stdout",
     "output_type": "stream",
     "text": [
      "['jyotsna', 'chiu', 'minal', 'kirtika', 'shubhangi', 'mansi', 'shital', 'rina', 'garima', 'priyanka', 'raju']\n"
     ]
    }
   ],
   "source": [
    "print(student)"
   ]
  },
  {
   "cell_type": "code",
   "execution_count": 91,
   "metadata": {},
   "outputs": [],
   "source": [
    "del student[4]"
   ]
  },
  {
   "cell_type": "code",
   "execution_count": 93,
   "metadata": {},
   "outputs": [
    {
     "name": "stdout",
     "output_type": "stream",
     "text": [
      "['jyotsna', 'chiu', 'minal', 'kirtika', 'shubhangi', 'mansi', 'shital', 'rina', 'garima', 'priyanka', 'raju']\n"
     ]
    }
   ],
   "source": [
    "print(student)"
   ]
  },
  {
   "cell_type": "code",
   "execution_count": 94,
   "metadata": {},
   "outputs": [
    {
     "name": "stdout",
     "output_type": "stream",
     "text": [
      "['jyotsna', 'chiu', 'minal', 'shubhangi', 'mansi', 'shital', 'rina', 'garima', 'priyanka', 'raju']\n"
     ]
    }
   ],
   "source": [
    "del student[3]\n",
    "print(student)"
   ]
  },
  {
   "cell_type": "code",
   "execution_count": 99,
   "metadata": {},
   "outputs": [],
   "source": [
    "# python program to display calendar\n",
    "\n",
    "#built_in function\n",
    "#In the program below,\n",
    "#"
   ]
  },
  {
   "cell_type": "code",
   "execution_count": 101,
   "metadata": {},
   "outputs": [],
   "source": [
    "#"
   ]
  },
  {
   "cell_type": "code",
   "execution_count": 102,
   "metadata": {},
   "outputs": [
    {
     "name": "stdout",
     "output_type": "stream",
     "text": [
      "      May 1998\n",
      "Mo Tu We Th Fr Sa Su\n",
      "             1  2  3\n",
      " 4  5  6  7  8  9 10\n",
      "11 12 13 14 15 16 17\n",
      "18 19 20 21 22 23 24\n",
      "25 26 27 28 29 30 31\n",
      "\n"
     ]
    }
   ],
   "source": [
    "import calendar  \n",
    "    \n",
    "yy = 1998\n",
    "mm = 5\n",
    "    \n",
    "# display the calendar  \n",
    "print(calendar.month(yy, mm))"
   ]
  },
  {
   "cell_type": "code",
   "execution_count": null,
   "metadata": {},
   "outputs": [],
   "source": [
    "import calendar\n",
    "yy=2021 #yeaar\n",
    "mm=3 #month\n",
    "\n",
    "#to take month and year input from the user\n",
    "#yy=int (input(\"Enter year:\"))\n",
    "#mm=int (input(\"Enter month:\"))\n",
    "\n",
    "#display the calendar\n",
    "print\n"
   ]
  },
  {
   "cell_type": "code",
   "execution_count": null,
   "metadata": {},
   "outputs": [],
   "source": []
  },
  {
   "cell_type": "code",
   "execution_count": 103,
   "metadata": {},
   "outputs": [],
   "source": [
    "#let us fin the value of \"pi\"\n",
    "import math"
   ]
  },
  {
   "cell_type": "code",
   "execution_count": 105,
   "metadata": {},
   "outputs": [
    {
     "name": "stdout",
     "output_type": "stream",
     "text": [
      "the value of pi is 3.141592653589793\n"
     ]
    }
   ],
   "source": [
    "print(\"the value of pi is\",math.pi)"
   ]
  },
  {
   "cell_type": "code",
   "execution_count": 109,
   "metadata": {},
   "outputs": [
    {
     "name": "stdout",
     "output_type": "stream",
     "text": [
      "The sum 37.69 and 17.73 is 55.42\n"
     ]
    }
   ],
   "source": [
    "#python program to Add Two Numbers\n",
    "\n",
    "#Example 1: Add Two Numbers\n",
    "\n",
    "num1 = 37.69\n",
    "num2 =17.73\n",
    "sum=num1+num2\n",
    "print('The sum {0} and {1} is {2}'.format(num1,num2,sum))"
   ]
  },
  {
   "cell_type": "code",
   "execution_count": null,
   "metadata": {},
   "outputs": [],
   "source": [
    "# Example 2: Add two numbers with  User Input\n",
    "\n"
   ]
  },
  {
   "cell_type": "code",
   "execution_count": 111,
   "metadata": {},
   "outputs": [
    {
     "name": "stdout",
     "output_type": "stream",
     "text": [
      "enter first numbers:40.6\n",
      "enter second numbers:18.56\n",
      "enter third numbers-48\n",
      "11.159999999999997\n"
     ]
    }
   ],
   "source": [
    "num1 = input('enter first numbers:')\n",
    "num2 = input('enter second numbers:')\n",
    "num3 = input ('enter third numbers')\n",
    "sum = float(num1) + float(num2) + float(num3)\n",
    "print(sum)"
   ]
  },
  {
   "cell_type": "code",
   "execution_count": 113,
   "metadata": {},
   "outputs": [
    {
     "name": "stdout",
     "output_type": "stream",
     "text": [
      "enter first numbers:736\n",
      "enter second numbers:32.6\n",
      "enter third numbers-345.9\n",
      "422.70000000000005\n"
     ]
    }
   ],
   "source": [
    "num1 = input('enter first numbers:')\n",
    "num2 = input('enter second numbers:')\n",
    "num3 = input ('enter third numbers')\n",
    "sum = float(num1) + float(num2) + float(num3)\n",
    "print(sum)"
   ]
  },
  {
   "cell_type": "code",
   "execution_count": 112,
   "metadata": {},
   "outputs": [
    {
     "name": "stdout",
     "output_type": "stream",
     "text": [
      "enter first numbers:20.7\n",
      "enter second numbers:45.9\n",
      "enter third numbers56.8\n",
      "The sum 20.7 and 45.9 and 56.8 is 123.39999999999999\n"
     ]
    }
   ],
   "source": [
    "num1 = input('enter first numbers:')\n",
    "num2 = input('enter second numbers:')\n",
    "num3 = input ('enter third numbers')\n",
    "sum = float(num1) + float(num2) + float(num3)\n",
    "print('The sum {0} and {1} and {2} is {3}'.format(num1,num2,num3,sum))"
   ]
  },
  {
   "cell_type": "code",
   "execution_count": null,
   "metadata": {},
   "outputs": [],
   "source": []
  },
  {
   "cell_type": "code",
   "execution_count": null,
   "metadata": {},
   "outputs": [],
   "source": []
  }
 ],
 "metadata": {
  "kernelspec": {
   "display_name": "Python 3",
   "language": "python",
   "name": "python3"
  },
  "language_info": {
   "codemirror_mode": {
    "name": "ipython",
    "version": 3
   },
   "file_extension": ".py",
   "mimetype": "text/x-python",
   "name": "python",
   "nbconvert_exporter": "python",
   "pygments_lexer": "ipython3",
   "version": "3.8.3"
  }
 },
 "nbformat": 4,
 "nbformat_minor": 4
}
